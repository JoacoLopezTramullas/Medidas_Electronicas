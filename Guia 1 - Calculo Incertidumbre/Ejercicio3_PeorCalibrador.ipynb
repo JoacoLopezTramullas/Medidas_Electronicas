{
 "cells": [
  {
   "cell_type": "markdown",
   "id": "7d001e52",
   "metadata": {},
   "source": [
    "### En este caso aumentamos el error de lectura del calibrador, de 0.05 a 0.2 "
   ]
  },
  {
   "cell_type": "code",
   "execution_count": 15,
   "id": "e6c0cd21",
   "metadata": {},
   "outputs": [],
   "source": [
    "import numpy as np"
   ]
  },
  {
   "cell_type": "markdown",
   "id": "250fa715",
   "metadata": {},
   "source": [
    "const = i_x - i_p     \n",
    "\n",
    "i_x: corriente medida x el tester\n",
    "\n",
    "i_p: corriente de referencia"
   ]
  },
  {
   "cell_type": "code",
   "execution_count": 14,
   "id": "b769dbf5",
   "metadata": {},
   "outputs": [
    {
     "name": "stdout",
     "output_type": "stream",
     "text": [
      "10.008 0.008366600265340578 5\n",
      "Error: 0.0080\n"
     ]
    }
   ],
   "source": [
    "i = [10.01, 10.00, 10.02, 10.01, 10.00]\n",
    "i = np.array(i)\n",
    "\n",
    "i_mean = i.mean()              #calculo valor medio\n",
    "i_std = i.std(ddof = 1)        #calculo desvio estandar\n",
    "n = len(i)\n",
    "\n",
    "print(i_mean, i_std, n)\n",
    "\n",
    "i_x = i_mean\n",
    "i_p = 10\n",
    "\n",
    "const = i_x - i_p\n",
    "print(\"Error: %0.4f\" %const)   #pedimos 4 decimales de un flout"
   ]
  },
  {
   "cell_type": "code",
   "execution_count": 5,
   "id": "b0a7db88",
   "metadata": {},
   "outputs": [
    {
     "name": "stdout",
     "output_type": "stream",
     "text": [
      "ui_x: 0.0037416574\n"
     ]
    }
   ],
   "source": [
    "# EVALUACION TIPO A\n",
    "\n",
    "ui_x = i_std/np.sqrt(n)      #calculo incertidumbre tipo A\n",
    "print(\"ui_x: %0.10f\" %ui_x)\n",
    "\n",
    "ui_p = 0                     # no hay tipo A del patrón, ya que no muestrea nada, le seteo el valor"
   ]
  },
  {
   "cell_type": "code",
   "execution_count": 20,
   "id": "44d438a8",
   "metadata": {},
   "outputs": [
    {
     "name": "stdout",
     "output_type": "stream",
     "text": [
      "Error del patron: 0.0220\n",
      "uj_p: 0.0073333333\n"
     ]
    }
   ],
   "source": [
    "# EVALUACION TIPO B\n",
    "\n",
    "e_lectura = 0.2             #error de lectura\n",
    "e_bias = 2e-3               #error constante\n",
    "\n",
    "#distribución Gaussiana y cobertura del 99%\n",
    "\n",
    "error_ip = (e_lectura/100)*i_p + e_bias      #calculo error del patrón\n",
    "print(\"Error del patron: %0.4f\" %error_ip)\n",
    "\n",
    "uj_p = error_ip/3                            #calculo incertidumbre tipo B\n",
    "print(\"uj_p: %0.10f\" %uj_p)                  #se divide por 3 por el 99% de cobertura \n",
    "                                             #(ver tabla de distribución normal --> 3 sigmas)\n",
    "\n",
    "# En realidad, segun la tabla el valor exacto por el que habráia que divir\n",
    "# es 2.575\n",
    "\n",
    "uj_x = 0              # el tester no tiene incertidumbre Tipo B"
   ]
  },
  {
   "cell_type": "code",
   "execution_count": 21,
   "id": "37a5dfad",
   "metadata": {},
   "outputs": [
    {
     "name": "stdout",
     "output_type": "stream",
     "text": [
      "uc_x: 0.0082327260\n",
      "El valor de c es 0.007999999999999119 con incertidumbre uc 0.008232726023485609\n"
     ]
    }
   ],
   "source": [
    "# INCERTIDUMBRES COMBINADAS\n",
    "\n",
    "#instrumento a calibrar\n",
    "uc_x = np.sqrt(ui_x**2 + uj_p**2)\n",
    "\n",
    "print(\"uc_x: %0.10f\" %uc_x)\n",
    "print(\"El valor de c es\", const, \"con incertidumbre uc\", uc_x)"
   ]
  },
  {
   "cell_type": "code",
   "execution_count": 22,
   "id": "cbbe8a9d",
   "metadata": {},
   "outputs": [
    {
     "name": "stdout",
     "output_type": "stream",
     "text": [
      "Grados de libertad: 93\n"
     ]
    }
   ],
   "source": [
    "# INCERTIDUMBRE COMBINADA \n",
    "\n",
    "v_eff = (uc_x**4) / (ui_x**4/(n-1))       #calculo grados efectivos de libertad \n",
    "print(\"Grados de libertad: %d\" %v_eff)    #lo casteamos a entero\n",
    "                      \n",
    "#vemos que la incertidumbre combinada está dominada por la tipo B, ya que el \n",
    "# valor obtenido (93) se parece más a la tipo B que a la tipo A"
   ]
  },
  {
   "cell_type": "code",
   "execution_count": 23,
   "id": "0731718c",
   "metadata": {},
   "outputs": [
    {
     "name": "stdout",
     "output_type": "stream",
     "text": [
      "El valor de c es 0.007999999999999119 con incertidumbre U 0.016465452046971217 con una confianza del 95.45%\n"
     ]
    }
   ],
   "source": [
    "#Con más de 30 grados de libertad tengo distribución normal  \n",
    "#(a partir de 30 grados ya se toma como normal --> domina B)\n",
    "\n",
    "#El coeficiente K lo obtengo de la tabla de student (ver en PPT).\n",
    "#En la tabla vas a la columna de  95.45 y la entrada de 100 grados de libertad,\n",
    "#obteniendo K = 2\n",
    "\n",
    "k = 2\n",
    "\n",
    "U = k * uc_x    #incertidumbre expandida\n",
    "\n",
    "print(\"El valor de c es\", const, \"con incertidumbre U\", U, \"con una confianza del 95.45%\")"
   ]
  },
  {
   "cell_type": "code",
   "execution_count": null,
   "id": "cb659061",
   "metadata": {},
   "outputs": [],
   "source": []
  }
 ],
 "metadata": {
  "kernelspec": {
   "display_name": "Python 3 (ipykernel)",
   "language": "python",
   "name": "python3"
  },
  "language_info": {
   "codemirror_mode": {
    "name": "ipython",
    "version": 3
   },
   "file_extension": ".py",
   "mimetype": "text/x-python",
   "name": "python",
   "nbconvert_exporter": "python",
   "pygments_lexer": "ipython3",
   "version": "3.9.7"
  }
 },
 "nbformat": 4,
 "nbformat_minor": 5
}
